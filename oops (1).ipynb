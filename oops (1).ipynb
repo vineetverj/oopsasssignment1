{
 "cells": [
  {
   "cell_type": "code",
   "execution_count": null,
   "id": "217453aa-2d3b-4a9d-8635-9cff048074a4",
   "metadata": {},
   "outputs": [],
   "source": [
    "Problem 1: Bank Account Create a class representing a bank account with attributes like account number, account holder name\n",
    ", and balance. Implement methods to deposit and withdraw money from the account."
   ]
  },
  {
   "cell_type": "code",
   "execution_count": 1,
   "id": "18fad4ff-f10b-44d4-a1e9-73530920ce90",
   "metadata": {},
   "outputs": [
    {
     "name": "stdout",
     "output_type": "stream",
     "text": [
      "1000\n",
      "990\n"
     ]
    }
   ],
   "source": [
    "class Employee:\n",
    "    def __init__(self, account_number, account_name, balance=0):\n",
    "        self.account_number = account_number\n",
    "        self.account_name = account_name\n",
    "        self.balance = balance\n",
    "\n",
    "    def deposit(self, amount):\n",
    "        self.balance = self.balance + amount\n",
    "        return self.balance\n",
    "\n",
    "    def withdraw(self, amount):\n",
    "        if amount <= self.balance:\n",
    "            self.balance = self.balance - amount\n",
    "            return True\n",
    "        else:\n",
    "            return False\n",
    "\n",
    "    def display(self):\n",
    "        return self.balance\n",
    "\n",
    "account1 = Employee(1234, \"vi\")\n",
    "account1.deposit(1000)\n",
    "print(account1.display())\n",
    "account1.withdraw(10)\n",
    "print(account1.display())\n",
    "\n",
    "\n",
    "\n",
    "\n"
   ]
  },
  {
   "cell_type": "code",
   "execution_count": null,
   "id": "1c3f490b-b3c3-4966-a98d-96993716058d",
   "metadata": {},
   "outputs": [],
   "source": [
    "Problem 2: Employee Management Create a class representing an employee with attributes like employee ID, name, and salary.\n",
    " Implement methods to calculate the yearly bonus and display employee details."
   ]
  },
  {
   "cell_type": "code",
   "execution_count": 2,
   "id": "d4967f14-4841-4fdd-bf12-fcafb56884ac",
   "metadata": {},
   "outputs": [
    {
     "name": "stdout",
     "output_type": "stream",
     "text": [
      "Yearly bonus: 54285.5\n",
      "Employee: 1, Salary: 542855, Name: kk\n"
     ]
    }
   ],
   "source": [
    "class Employee:\n",
    "    def __init__(self, employee_id, name, salary):\n",
    "        self.employee_id = employee_id\n",
    "        self.name = name\n",
    "        self.salary = salary\n",
    "\n",
    "    def yearly_bonus(self, bonus_percentage):\n",
    "        bonus = bonus_percentage / 100 * self.salary\n",
    "        return bonus\n",
    "\n",
    "    def display(self):\n",
    "        return f\"Employee: {self.employee_id}, Salary: {self.salary}, Name: {self.name}\"\n",
    "\n",
    "bonus_percentage = 10\n",
    "account1 = Employee(1, \"kk\", 542855)\n",
    "bonus = account1.yearly_bonus(bonus_percentage)\n",
    "print(f\"Yearly bonus: {bonus}\")\n",
    "print(account1.display())\n",
    "\n"
   ]
  },
  {
   "cell_type": "code",
   "execution_count": null,
   "id": "72c36deb-21e6-435a-a851-9c46f508a658",
   "metadata": {},
   "outputs": [],
   "source": [
    "Problem 3: Vehicle Rental Create a class representing a vehicle rental system.\n",
    "Implement methods to rent a vehicle, return a vehicle, and display available vehicles."
   ]
  },
  {
   "cell_type": "code",
   "execution_count": 3,
   "id": "a9dec83a-f260-4307-9a93-d4d7d268f7b2",
   "metadata": {},
   "outputs": [
    {
     "name": "stdout",
     "output_type": "stream",
     "text": [
      "{'car': 8, 'bike': 20, 'cycle': 30}\n"
     ]
    }
   ],
   "source": [
    "class retal_vehicle:\n",
    "    def __init__(self):\n",
    "      self.available_vehicle ={\"car\":10,\"bike\":20,\"cycle\":30}\n",
    "    def rent_vehicle(self,vehicle,quantity):\n",
    "      if vehicle in self.available_vehicle and self.available_vehicle[vehicle]>=quantity:\n",
    "        self.available_vehicle[vehicle] -= quantity\n",
    "        return self.available_vehicle\n",
    "      else:\n",
    "        return f\"invalid entry\"\n",
    "\n",
    "    def vehicle_return(self,vehicle,quantity):\n",
    "      if vehicle in self.available_vehicle:\n",
    "        self.available_vehicle[vehicle] += quantity\n",
    "    def display():\n",
    "      return self.available_vehicle\n",
    "vehicle_retal = retal_vehicle();\n",
    "print(vehicle_retal.rent_vehicle(\"car\",2))"
   ]
  },
  {
   "cell_type": "code",
   "execution_count": null,
   "id": "cb94c924-ddb9-4c9b-a01e-2848fc9b328a",
   "metadata": {},
   "outputs": [],
   "source": [
    "Problem 4: Library Catalog Create classes representing a library and a book.\n",
    "Implement methods to add books to the library, borrow books, and display available books."
   ]
  },
  {
   "cell_type": "code",
   "execution_count": 5,
   "id": "f5cc9408-b1da-449b-b510-8c526d0adc9c",
   "metadata": {},
   "outputs": [
    {
     "name": "stdout",
     "output_type": "stream",
     "text": [
      "Available books in the library:\n",
      "Harry Potter and the Sorcerer's Stone\n",
      "To Kill a Mockingbird\n",
      "1984\n",
      "You have borrowed 'To Kill a Mockingbird'.\n",
      "Available books in the library:\n",
      "Harry Potter and the Sorcerer's Stone\n",
      "1984\n"
     ]
    }
   ],
   "source": [
    "class Book:\n",
    "    def __init__(self, title, author):\n",
    "        self.title = title\n",
    "        self.author = author\n",
    "        self.is_available = True\n",
    "\n",
    "class Library:\n",
    "    def __init__(self):\n",
    "        self.books = []\n",
    "\n",
    "    def add_book(self, title, author):\n",
    "        book = Book(title, author)\n",
    "        self.books.append(book)\n",
    "\n",
    "    def display_available_books(self):\n",
    "        available_books = [book.title for book in self.books if book.is_available]\n",
    "        if available_books:\n",
    "            print(\"Available books in the library:\")\n",
    "            for book_title in available_books:\n",
    "                print(book_title)\n",
    "        else:\n",
    "            print(\"No books available in the library.\")\n",
    "\n",
    "    def borrow_book(self, title):\n",
    "        for book in self.books:\n",
    "            if book.title == title and book.is_available:\n",
    "                book.is_available = False\n",
    "                print(f\"You have borrowed '{title}'.\")\n",
    "                break\n",
    "        else:\n",
    "            print(f\"Sorry, '{title}' is not available for borrowing.\")\n",
    "# Example usage of the classes and methods\n",
    "library = Library()\n",
    "\n",
    "# Adding books to the library\n",
    "library.add_book(\"Harry Potter and the Sorcerer's Stone\", \"J.K. Rowling\")\n",
    "library.add_book(\"To Kill a Mockingbird\", \"Harper Lee\")\n",
    "library.add_book(\"1984\", \"George Orwell\")\n",
    "\n",
    "# Displaying available books\n",
    "library.display_available_books()\n",
    "\n",
    "# Borrowing a book\n",
    "library.borrow_book(\"To Kill a Mockingbird\")\n",
    "\n",
    "# Displaying available books after borrowing\n",
    "library.display_available_books()\n"
   ]
  },
  {
   "cell_type": "code",
   "execution_count": null,
   "id": "b05c1be7-ca62-40e2-8f14-bef636a366b1",
   "metadata": {},
   "outputs": [],
   "source": [
    "#Problem 5: Product Inventory Create classes representing a product and an inventory system.\n",
    "#Implement methods to add products to the inventory, update product quantity, and\n",
    " #display available products."
   ]
  },
  {
   "cell_type": "code",
   "execution_count": 6,
   "id": "07065702-f6cf-4058-af01-873aa936fd4c",
   "metadata": {},
   "outputs": [
    {
     "name": "stdout",
     "output_type": "stream",
     "text": [
      "Product 'Laptop' added to the inventory.\n",
      "Product 'Mouse' added to the inventory.\n",
      "Product 'Keyboard' added to the inventory.\n",
      "Available Products in Inventory:\n",
      "Product ID: 1, Name: Laptop, Price: $800, Quantity: 10\n",
      "Product ID: 2, Name: Mouse, Price: $20, Quantity: 50\n",
      "Product ID: 3, Name: Keyboard, Price: $50, Quantity: 30\n",
      "Quantity for Product ID 1 updated to 15.\n",
      "Available Products in Inventory:\n",
      "Product ID: 1, Name: Laptop, Price: $800, Quantity: 15\n",
      "Product ID: 2, Name: Mouse, Price: $20, Quantity: 50\n",
      "Product ID: 3, Name: Keyboard, Price: $50, Quantity: 30\n"
     ]
    }
   ],
   "source": [
    "class Product:\n",
    "    def __init__(self, product_id, name, price, quantity):\n",
    "        self.product_id = product_id\n",
    "        self.name = name\n",
    "        self.price = price\n",
    "        self.quantity = quantity\n",
    "\n",
    "    def __str__(self):\n",
    "        return f\"Product ID: {self.product_id}, Name: {self.name}, Price: ${self.price}, Quantity: {self.quantity}\"\n",
    "\n",
    "\n",
    "class InventorySystem:\n",
    "    def __init__(self):\n",
    "        self.inventory = {}\n",
    "\n",
    "    def add_product(self, product):\n",
    "        if product.product_id not in self.inventory:\n",
    "            self.inventory[product.product_id] = product\n",
    "            print(f\"Product '{product.name}' added to the inventory.\")\n",
    "        else:\n",
    "            print(f\"Product '{product.name}' already exists in the inventory.\")\n",
    "\n",
    "    def update_quantity(self, product_id, new_quantity):\n",
    "        if product_id in self.inventory:\n",
    "            self.inventory[product_id].quantity = new_quantity\n",
    "            print(f\"Quantity for Product ID {product_id} updated to {new_quantity}.\")\n",
    "        else:\n",
    "            print(f\"Product with ID {product_id} not found in the inventory.\")\n",
    "\n",
    "    def display_products(self):\n",
    "        print(\"Available Products in Inventory:\")\n",
    "        for product in self.inventory.values():\n",
    "            print(product)\n",
    "\n",
    "\n",
    "# Example Usage:\n",
    "\n",
    "# Creating products\n",
    "product1 = Product(1, \"Laptop\", 800, 10)\n",
    "product2 = Product(2, \"Mouse\", 20, 50)\n",
    "product3 = Product(3, \"Keyboard\", 50, 30)\n",
    "\n",
    "# Creating inventory system\n",
    "inventory_system = InventorySystem()\n",
    "\n",
    "# Adding products to inventory\n",
    "inventory_system.add_product(product1)\n",
    "inventory_system.add_product(product2)\n",
    "inventory_system.add_product(product3)\n",
    "\n",
    "# Displaying available products\n",
    "inventory_system.display_products()\n",
    "\n",
    "# Updating product quantity\n",
    "inventory_system.update_quantity(1, 15)\n",
    "\n",
    "# Displaying available products after updating quantity\n",
    "inventory_system.display_products()"
   ]
  },
  {
   "cell_type": "code",
   "execution_count": null,
   "id": "b6b1d8d7-e76d-4120-8d9d-b7e8ac2f9682",
   "metadata": {},
   "outputs": [],
   "source": [
    "Problem 6: Shape Calculation Create a class representing a shape with attributes like length, width, and height.\n",
    "Implement methods to calculate the area and perimeter of the shape."
   ]
  },
  {
   "cell_type": "code",
   "execution_count": 7,
   "id": "cbd60eb4-4540-4aeb-a7ba-e86f5f3370ab",
   "metadata": {},
   "outputs": [
    {
     "name": "stdout",
     "output_type": "stream",
     "text": [
      "shape with 5 6 4\n",
      "Area of rectangle: 24\n",
      "area of triangle: 13.5\n"
     ]
    }
   ],
   "source": [
    "class Shape:\n",
    "    def __init__(self, length, width = None, height= None):\n",
    "        self.length = length\n",
    "        self.width = width\n",
    "        self.height = height\n",
    "\n",
    "    def calculate(self):\n",
    "        if self.width is not None and self.height is not None:#calculate area of rectangle\n",
    "            return self.width * self.height\n",
    "        elif self.width is not None:#calculate the area of triangle\n",
    "            return self.width * self.width\n",
    "        elif self.height is not None:#calculate the area of triangle\n",
    "            return 0.5 * self.length * self.height\n",
    "        else:\n",
    "            return \"invalid\"\n",
    "\n",
    "    def perimeter(self):\n",
    "        if self.width is not None and self.height is not None:\n",
    "            return 2 * (self.width + self.height)\n",
    "        elif self.width is not None:\n",
    "            return 4 * self.width\n",
    "        else:\n",
    "            return \"invalid\"\n",
    "    def __str__(self):\n",
    "       return f\"shape with {self.length} {self.height} {self.width}\"\n",
    "\n",
    "rect = Shape(length=5, width=4, height=6)\n",
    "print(rect)\n",
    "print(\"Area of rectangle:\", rect.calculate())\n",
    "tri = Shape(length =9,height=3)\n",
    "print(\"area of triangle:\",tri.calculate())\n",
    "\n",
    "\n",
    "\n",
    "\n"
   ]
  },
  {
   "cell_type": "code",
   "execution_count": null,
   "id": "7cfca45f-d416-42ba-8367-9d120b0aaae9",
   "metadata": {},
   "outputs": [],
   "source": [
    "Problem 7: Student Management Create a class representing a student with attributes like student ID, name, and grades.\n",
    "Implement methods to calculate the average grade and display student details."
   ]
  },
  {
   "cell_type": "code",
   "execution_count": 8,
   "id": "7fd818dc-f926-4def-b3d0-ce728875d768",
   "metadata": {},
   "outputs": [
    {
     "name": "stdout",
     "output_type": "stream",
     "text": [
      "student_id is: 1233\n",
      "name is: vin\n",
      "grades are: [89, 90, 89, 70, 90]\n",
      "Average grade: 85.6\n"
     ]
    }
   ],
   "source": [
    "class Student:\n",
    "    def __init__(self, student_id, name, grades):\n",
    "        self.student_id = student_id\n",
    "        self.name = name\n",
    "        self.grades = grades\n",
    "\n",
    "    def calculate_average(self):\n",
    "        if len(self.grades) == 0:\n",
    "            return 0\n",
    "        total_grades = sum(self.grades)\n",
    "        average_grade = total_grades / len(self.grades)\n",
    "        return average_grade\n",
    "\n",
    "    def display(self):\n",
    "        print(f\"student_id is: {self.student_id}\\nname is: {self.name}\\ngrades are: {self.grades}\")\n",
    "\n",
    "student1 = Student(1233, \"vin\", [89, 90, 89, 70, 90])\n",
    "student1.display()\n",
    "print(f\"Average grade: {student1.calculate_average()}\")"
   ]
  },
  {
   "cell_type": "code",
   "execution_count": null,
   "id": "4068bac4-45ab-406b-ad7c-f421cef904ae",
   "metadata": {},
   "outputs": [],
   "source": [
    "Problem 8: Email Management Create a class representing an email with attributes like sender, recipient, and subject.\n",
    " Implement methods to send an email and display email details."
   ]
  },
  {
   "cell_type": "code",
   "execution_count": null,
   "id": "d5b799c3-a0c8-479b-807b-bdafef1d5f37",
   "metadata": {},
   "outputs": [],
   "source": []
  },
  {
   "cell_type": "code",
   "execution_count": null,
   "id": "b13f705f-779d-4de5-a28a-23847305d64b",
   "metadata": {},
   "outputs": [],
   "source": []
  },
  {
   "cell_type": "code",
   "execution_count": null,
   "id": "2385582f-0ecd-404d-b84c-311e765bfd1c",
   "metadata": {},
   "outputs": [],
   "source": []
  },
  {
   "cell_type": "code",
   "execution_count": null,
   "id": "ca377cec-fd72-4ca9-9b0b-e7b92c5b242e",
   "metadata": {},
   "outputs": [],
   "source": []
  }
 ],
 "metadata": {
  "kernelspec": {
   "display_name": "Python 3 (ipykernel)",
   "language": "python",
   "name": "python3"
  },
  "language_info": {
   "codemirror_mode": {
    "name": "ipython",
    "version": 3
   },
   "file_extension": ".py",
   "mimetype": "text/x-python",
   "name": "python",
   "nbconvert_exporter": "python",
   "pygments_lexer": "ipython3",
   "version": "3.10.6"
  }
 },
 "nbformat": 4,
 "nbformat_minor": 5
}
